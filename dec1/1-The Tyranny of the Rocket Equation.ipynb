{
 "cells": [
  {
   "cell_type": "code",
   "execution_count": 45,
   "outputs": [],
   "source": [
    "from math import floor\n",
    "expectations = [\n",
    "\t[12, 2],\n",
    "\t[14, 2],\n",
    "\t[1969, 654],\n",
    "\t[100756, 33583]\n",
    "]\n",
    "\n",
    "puzzle_input = [\n",
    "\t148319,\n",
    "    54894,\n",
    "    105685,\n",
    "    136247,\n",
    "    133339,\n",
    "    91401,\n",
    "    126939,\n",
    "    102276,\n",
    "    66395,\n",
    "    134572,\n",
    "    137988,\n",
    "    65709,\n",
    "    119909,\n",
    "    98439,\n",
    "    88926,\n",
    "    74563,\n",
    "    73275,\n",
    "    111063,\n",
    "    92623,\n",
    "    66649,\n",
    "    147991,\n",
    "    71108,\n",
    "    129082,\n",
    "    58677,\n",
    "    57884,\n",
    "    93284,\n",
    "    61455,\n",
    "    110362,\n",
    "    81726,\n",
    "    146604,\n",
    "    70037,\n",
    "    82328,\n",
    "    78802,\n",
    "    69496,\n",
    "    61390,\n",
    "    134525,\n",
    "    94583,\n",
    "    73669,\n",
    "    136417,\n",
    "    80424,\n",
    "    98700,\n",
    "    88578,\n",
    "    147217,\n",
    "    108332,\n",
    "    73965,\n",
    "    116009,\n",
    "    51599,\n",
    "    55617,\n",
    "    129014,\n",
    "    51962,\n",
    "    95443,\n",
    "    114358,\n",
    "    141826,\n",
    "    134605,\n",
    "    145837,\n",
    "    112074,\n",
    "    93422,\n",
    "    112897,\n",
    "    137077,\n",
    "    141584,\n",
    "    114605,\n",
    "    122589,\n",
    "    121933,\n",
    "    67088,\n",
    "    120788,\n",
    "    53216,\n",
    "    82633,\n",
    "    55215,\n",
    "    135617,\n",
    "    91439,\n",
    "    110237,\n",
    "    130445,\n",
    "    120865,\n",
    "    109484,\n",
    "    113596,\n",
    "    133240,\n",
    "    113525,\n",
    "    110473,\n",
    "    146059,\n",
    "    129811,\n",
    "    79370,\n",
    "    50142,\n",
    "    111149,\n",
    "    137107,\n",
    "    91647,\n",
    "    82978,\n",
    "    119456,\n",
    "    51924,\n",
    "    132979,\n",
    "    63215,\n",
    "    55209,\n",
    "    114474,\n",
    "    54585,\n",
    "    101761,\n",
    "    79878,\n",
    "    63987,\n",
    "    149324,\n",
    "    100155,\n",
    "    54601,\n",
    "    115686\n",
    "]"
   ],
   "metadata": {
    "collapsed": false,
    "pycharm": {
     "name": "#%%black\n",
     "is_executing": false
    }
   }
  },
  {
   "cell_type": "code",
   "execution_count": 46,
   "outputs": [],
   "source": [
    "'''\n",
    "Fuel required to launch a given module is based on its mass.\n",
    "Specifically, to find the fuel required for a module,\n",
    "  take its mass,\n",
    "  divide by three,\n",
    "  round down,\n",
    "  and subtract 2.\n",
    "'''\n",
    "def solve(mass):\n",
    "\tmass = mass/3\n",
    "\tmass = floor(mass)\n",
    "\tmass = mass - 2\n",
    "\treturn mass\n",
    "\t"
   ],
   "metadata": {
    "collapsed": false,
    "pycharm": {
     "name": "#%%black\n",
     "is_executing": false
    }
   }
  },
  {
   "cell_type": "code",
   "execution_count": 47,
   "outputs": [],
   "source": [
    "for input, output in expectations:\n",
    "\tassert output == solve(input), f'Input of {input} doesnt match expected output {output}'"
   ],
   "metadata": {
    "collapsed": false,
    "pycharm": {
     "name": "#%%black\n",
     "is_executing": false
    }
   }
  },
  {
   "cell_type": "code",
   "execution_count": 48,
   "outputs": [
    {
     "name": "stdout",
     "text": [
      "3336985\n"
     ],
     "output_type": "stream"
    }
   ],
   "source": [
    "solution = sum([solve(mass) for mass in puzzle_input])\n",
    "print(solution)"
   ],
   "metadata": {
    "collapsed": false,
    "pycharm": {
     "name": "#%%black\n",
     "is_executing": false
    }
   }
  }
 ],
 "metadata": {
  "kernelspec": {
   "display_name": "Python 3",
   "language": "python",
   "name": "python3"
  },
  "language_info": {
   "codemirror_mode": {
    "name": "ipython",
    "version": 2
   },
   "file_extension": ".py",
   "mimetype": "text/x-python",
   "name": "python",
   "nbconvert_exporter": "python",
   "pygments_lexer": "ipython2",
   "version": "2.7.6"
  },
  "pycharm": {
   "stem_cell": {
    "cell_type": "raw",
    "source": [],
    "metadata": {
     "collapsed": false
    }
   }
  }
 },
 "nbformat": 4,
 "nbformat_minor": 0
}