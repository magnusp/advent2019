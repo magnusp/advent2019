{
 "cells": [
  {
   "cell_type": "code",
   "execution_count": 1,
   "metadata": {
    "collapsed": true,
    "pycharm": {
     "is_executing": false
    }
   },
   "outputs": [],
   "source": [
    "%config InteractiveShell.ast_node_interactivity='last_expr_or_assign'\n",
    "\n",
    "from collections import defaultdict\n",
    "test_input = [(item[0], item[1]) for item in [line.strip().split(')') for line in open('puzzle_input.txt').readlines()]]"
   ]
  },
  {
   "cell_type": "code",
   "execution_count": 2,
   "outputs": [],
   "source": [
    "def build_predecessor_graph(edges):\n",
    "    graph = {k: None for k in list(set.union(*map(set, edges)))}\n",
    "    for edge in edges:\n",
    "        graph[edge[1]] = edge[0]\n",
    "    return graph\n",
    "\n",
    "\n",
    "def calculate_distance(graph, source, target):\n",
    "    distance = 0\n",
    "    current = source\n",
    "    while current != target:\n",
    "        current = graph[current]\n",
    "        distance+=1\n",
    "    return distance\n"
   ],
   "metadata": {
    "collapsed": false,
    "pycharm": {
     "name": "#%%\n",
     "is_executing": false
    }
   }
  },
  {
   "cell_type": "code",
   "execution_count": 3,
   "outputs": [
    {
     "name": "stdout",
     "text": [
      "314247\n"
     ],
     "output_type": "stream"
    }
   ],
   "source": [
    "graph = build_predecessor_graph(test_input)\n",
    "distance_to_root = defaultdict(lambda: -1)\n",
    "for source in graph.keys():\n",
    "    distance_to_root[source] = calculate_distance(graph, source, 'COM')\n",
    "\n",
    "print(sum(distance_to_root.values()))"
   ],
   "metadata": {
    "collapsed": false,
    "pycharm": {
     "name": "#%%\n",
     "is_executing": false
    }
   }
  }
 ],
 "metadata": {
  "kernelspec": {
   "display_name": "Python 3",
   "language": "python",
   "name": "python3"
  },
  "language_info": {
   "codemirror_mode": {
    "name": "ipython",
    "version": 2
   },
   "file_extension": ".py",
   "mimetype": "text/x-python",
   "name": "python",
   "nbconvert_exporter": "python",
   "pygments_lexer": "ipython2",
   "version": "2.7.6"
  },
  "pycharm": {
   "stem_cell": {
    "cell_type": "raw",
    "source": [],
    "metadata": {
     "collapsed": false
    }
   }
  }
 },
 "nbformat": 4,
 "nbformat_minor": 0
}